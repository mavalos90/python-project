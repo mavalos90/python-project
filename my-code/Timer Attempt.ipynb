{
 "cells": [
  {
   "cell_type": "code",
   "execution_count": 1,
   "metadata": {},
   "outputs": [
    {
     "name": "stdout",
     "output_type": "stream",
     "text": [
      "00:12\r"
     ]
    }
   ],
   "source": [
    "import tkinter as tk\n",
    "import time\n",
    "import threading\n",
    "\n",
    "t = 70\n",
    "\n",
    "def countdown():\n",
    "    global t\n",
    "    while t > 0:\n",
    "        mins, secs = divmod(t, 60)\n",
    "        timeformat = '{:02d}:{:02d}'.format(mins, secs)\n",
    "        print(timeformat, end='\\r')\n",
    "        time.sleep(1)\n",
    "        t -= 1\n",
    "\n",
    "def display_time():\n",
    "    global t\n",
    "    mins, secs = divmod(t, 60)\n",
    "    timeformat = '{:02d}:{:02d}'.format(mins, secs)\n",
    "    #also : timeformat = str(mins).zfill(2) + \":\" + str(secs).zfill(2)\n",
    "    clock_label['text'] = timeformat\n",
    "    clock_label.after(100, display_time)\n",
    "\n",
    "\n",
    "screen = tk.Tk()\n",
    "screen.title(\"Escape Room Game\")\n",
    "clock_label = tk.Label(screen, font='arial 60', bg='black', fg='white')\n",
    "clock_label.grid(row=0,column=0)\n",
    "\n",
    "# threading clock\n",
    "countdown_thread = threading.Thread(target = countdown)\n",
    "countdown_thread.start()\n",
    "display_time()\n",
    "screen.mainloop()\n"
   ]
  },
  {
   "cell_type": "code",
   "execution_count": null,
   "metadata": {},
   "outputs": [],
   "source": []
  }
 ],
 "metadata": {
  "kernelspec": {
   "display_name": "Python 3",
   "language": "python",
   "name": "python3"
  },
  "language_info": {
   "codemirror_mode": {
    "name": "ipython",
    "version": 3
   },
   "file_extension": ".py",
   "mimetype": "text/x-python",
   "name": "python",
   "nbconvert_exporter": "python",
   "pygments_lexer": "ipython3",
   "version": "3.7.4"
  }
 },
 "nbformat": 4,
 "nbformat_minor": 2
}
